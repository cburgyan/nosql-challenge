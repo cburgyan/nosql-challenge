{
 "cells": [
  {
   "cell_type": "markdown",
   "id": "9a57c4c6",
   "metadata": {},
   "source": [
    "# Eat Safe, Love"
   ]
  },
  {
   "cell_type": "markdown",
   "id": "064ef857",
   "metadata": {},
   "source": [
    "## Notebook Set Up"
   ]
  },
  {
   "cell_type": "code",
   "execution_count": null,
   "id": "3ecdd008",
   "metadata": {},
   "outputs": [],
   "source": [
    "# Import dependencies\n",
    "from pymongo import MongoClient\n",
    "from pprint import pprint\n",
    "import pandas as pd"
   ]
  },
  {
   "cell_type": "code",
   "execution_count": null,
   "id": "59390c4a",
   "metadata": {},
   "outputs": [],
   "source": [
    "# Create an instance of MongoClient\n",
    "mongo = MongoClient(port=27017)"
   ]
  },
  {
   "cell_type": "code",
   "execution_count": null,
   "id": "71e373c1",
   "metadata": {},
   "outputs": [],
   "source": [
    "# assign the uk_food database to a variable name\n",
    "db = mongo['uk_food']"
   ]
  },
  {
   "cell_type": "code",
   "execution_count": null,
   "id": "18ab463c",
   "metadata": {},
   "outputs": [],
   "source": [
    "# review the collections in our database\n",
    "db.list_collection_names()"
   ]
  },
  {
   "cell_type": "code",
   "execution_count": null,
   "id": "11c9f11b",
   "metadata": {},
   "outputs": [],
   "source": [
    "# assign the collection to a variable\n",
    "establishments = db['establishments']"
   ]
  },
  {
   "cell_type": "code",
   "execution_count": null,
   "id": "c9588a99",
   "metadata": {},
   "outputs": [],
   "source": [
    "#ADDED CELL\n",
    "establishments.find_one()"
   ]
  },
  {
   "cell_type": "markdown",
   "id": "d5671434",
   "metadata": {},
   "source": [
    "## Part 3: Exploratory Analysis\n",
    "Unless otherwise stated, for each question: \n",
    "* Use `count_documents` to display the number of documents contained in the result.\n",
    "* Display the first document in the results using `pprint`.\n",
    "* Convert the result to a Pandas DataFrame, print the number of rows in the DataFrame, and display the first 10 rows."
   ]
  },
  {
   "cell_type": "markdown",
   "id": "314bd884",
   "metadata": {},
   "source": [
    "### 1. Which establishments have a hygiene score equal to 20?"
   ]
  },
  {
   "cell_type": "code",
   "execution_count": null,
   "id": "c2da7648",
   "metadata": {},
   "outputs": [],
   "source": [
    "# Find the establishments with a hygiene score of 20\n",
    "query1 = {'scores.Hygiene': 20}\n",
    "fields1 = {'BusinessName': 1, 'scores.Hygiene': 1, '_id': 0}\n",
    "\n",
    "results1 = list(establishments.find(query1, fields1))\n",
    "\n",
    "# Use count_documents to display the number of documents in the result\n",
    "print(establishments.count_documents(query1))\n",
    "\n",
    "# Display the first document in the results using pprint\n",
    "pprint(results1[0])"
   ]
  },
  {
   "cell_type": "code",
   "execution_count": null,
   "id": "a6e5cece",
   "metadata": {
    "scrolled": true
   },
   "outputs": [],
   "source": [
    "# Convert the result to a Pandas DataFrame\n",
    "results1_df = pd.json_normalize(results1)\n",
    "# Display the number of rows in the DataFrame\n",
    "pprint(results1_df.shape[0])\n",
    "# Display the first 10 rows of the DataFrame\n",
    "results1_df.head(10)"
   ]
  },
  {
   "cell_type": "code",
   "execution_count": null,
   "id": "b0289c84",
   "metadata": {
    "scrolled": true
   },
   "outputs": [],
   "source": [
    "#ADDED CELL\n",
    "#1. Which establishments have a hygiene score equal to 20?\n",
    "# Answer: see the full list below\n",
    "results1_df"
   ]
  },
  {
   "cell_type": "markdown",
   "id": "0ef4395a",
   "metadata": {},
   "source": [
    "### 2. Which establishments in London have a `RatingValue` greater than or equal to 4?"
   ]
  },
  {
   "cell_type": "code",
   "execution_count": null,
   "id": "93c63829",
   "metadata": {},
   "outputs": [],
   "source": [
    "# Find the establishments with London as the Local Authority and has a RatingValue greater than or equal to 4.\n",
    "query2 = {'LocalAuthorityName': {'$regex':'London'}, 'RatingValue': {'$gte':4}}\n",
    "fields2 = {'LocalAuthorityName':1,\n",
    "         'RatingValue':1, '_id': 0}\n",
    "\n",
    "results2 = list(establishments.find(query2, fields2))\n",
    "# Use count_documents to display the number of documents in the result\n",
    "pprint(establishments.count_documents(query2))\n",
    "# Display the first document in the results using pprint\n",
    "pprint(results2[0])"
   ]
  },
  {
   "cell_type": "code",
   "execution_count": null,
   "id": "07e24ccb",
   "metadata": {},
   "outputs": [],
   "source": [
    "# Convert the result to a Pandas DataFrame\n",
    "results2_df = pd.json_normalize(results2)\n",
    "# Display the number of rows in the DataFrame\n",
    "pprint(results2_df.shape[0])\n",
    "# Display the first 10 rows of the DataFrame\n",
    "results2_df.head(10)"
   ]
  },
  {
   "cell_type": "markdown",
   "id": "4e570caf",
   "metadata": {},
   "source": [
    "### 3. What are the top 5 establishments with a `RatingValue` rating value of 5, sorted by lowest hygiene score, nearest to the new restaurant added, \"Penang Flavours\"?"
   ]
  },
  {
   "cell_type": "code",
   "execution_count": null,
   "id": "7f599f3d",
   "metadata": {},
   "outputs": [],
   "source": [
    "# Search within 0.01 degree on either side of the latitude and longitude.\n",
    "# Rating value must equal 5\n",
    "# Sort by hygiene score\n",
    "# Get Penang Flavours document\n",
    "query_penang_flavours = {'BusinessName': \"Penang Flavours\"}\n",
    "penang_result = establishments.find_one(query_penang_flavours)\n",
    "\n",
    "degree_search = 0.01\n",
    "latitude = penang_result['geocode']['latitude']\n",
    "longitude = penang_result['geocode']['longitude']\n",
    "\n",
    "query3 = {'RatingValue': 5,\n",
    "            'geocode.latitude': {\n",
    "                '$gte': latitude - degree_search, \n",
    "                '$lte': latitude + degree_search\n",
    "                },\n",
    "            'geocode.longitude': {\n",
    "                '$gte': longitude - degree_search, \n",
    "                '$lte': longitude + degree_search\n",
    "             }\n",
    "        }\n",
    "fields3 = {'RatingValue': 1, \n",
    "          'geocode.latitude': 1, \n",
    "          'geocode.longitude': 1, \n",
    "          'scores.Hygiene': 1,\n",
    "          'BusinessName': 1,\n",
    "          '_id':0}\n",
    "\n",
    "sort3 =  [('scores.Hygiene', 1)]\n",
    "\n",
    "results3 = list(establishments.find(query3, fields3).sort(sort3).limit(5))\n",
    "# Print the results\n",
    "pprint(results3)"
   ]
  },
  {
   "cell_type": "code",
   "execution_count": null,
   "id": "a6ad16f7",
   "metadata": {},
   "outputs": [],
   "source": [
    "# Convert result to Pandas DataFrame\n",
    "top5_london_df = pd.json_normalize(results3)\n",
    "pprint(top5_london_df.shape[0])\n",
    "top5_london_df.head()"
   ]
  },
  {
   "cell_type": "markdown",
   "id": "67281254",
   "metadata": {},
   "source": [
    "### 4. How many establishments in each Local Authority area have a hygiene score of 0?"
   ]
  },
  {
   "cell_type": "code",
   "execution_count": null,
   "id": "4eeb227e",
   "metadata": {},
   "outputs": [],
   "source": [
    "# Create a pipeline that: \n",
    "# 1. Matches establishments with a hygiene score of 0\n",
    "# 2. Groups the matches by Local Authority\n",
    "# 3. Sorts the matches from highest to lowest\n",
    "match_query4 = {'$match': {\n",
    "                    'scores.Hygiene': 0}\n",
    "              }\n",
    "\n",
    "# Print the number of documents in the result\n",
    "group_query4 = {'$group': {\n",
    "    '_id':{\n",
    "        'LocalAuthorityName': '$LocalAuthorityName'\n",
    "    },\n",
    "    'count':{'$sum': 1}\n",
    "  }\n",
    "}\n",
    "sort_values4 = {'$sort': {'count': -1}}\n",
    "pipeline = [match_query4, group_query4, sort_values4]\n",
    "results4 = list(establishments.aggregate(pipeline))\n",
    "# Print the first 10 results\n",
    "pprint(results4[:10])"
   ]
  },
  {
   "cell_type": "code",
   "execution_count": null,
   "id": "d8aab364",
   "metadata": {},
   "outputs": [],
   "source": [
    "# Convert the result to a Pandas DataFrame\n",
    "results4_df = pd.json_normalize(results4)\n",
    "results4_df = results4_df.rename(columns={'_id.LocalAuthorityName':'_id'})\n",
    "# Display the number of rows in the DataFrame\n",
    "pprint(results4_df.shape[0])\n",
    "# Display the first 10 rows of the DataFrame\n",
    "results4_df.head(10)"
   ]
  },
  {
   "cell_type": "code",
   "execution_count": null,
   "id": "088aa6d6",
   "metadata": {},
   "outputs": [],
   "source": []
  }
 ],
 "metadata": {
  "kernelspec": {
   "display_name": "Python 3 (ipykernel)",
   "language": "python",
   "name": "python3"
  },
  "language_info": {
   "codemirror_mode": {
    "name": "ipython",
    "version": 3
   },
   "file_extension": ".py",
   "mimetype": "text/x-python",
   "name": "python",
   "nbconvert_exporter": "python",
   "pygments_lexer": "ipython3",
   "version": "3.10.11"
  }
 },
 "nbformat": 4,
 "nbformat_minor": 5
}
